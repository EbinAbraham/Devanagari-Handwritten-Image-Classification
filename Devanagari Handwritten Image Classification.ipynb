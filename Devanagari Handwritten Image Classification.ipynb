{
 "cells": [
  {
   "cell_type": "code",
   "execution_count": 0,
   "metadata": {
    "colab": {
     "base_uri": "https://localhost:8080/",
     "height": 34
    },
    "colab_type": "code",
    "id": "bE4gIQoNNy38",
    "outputId": "6d9d1b97-9e14-4f8a-9a2a-34d3b2c63787"
   },
   "outputs": [
    {
     "name": "stderr",
     "output_type": "stream",
     "text": [
      "Using TensorFlow backend.\n"
     ]
    }
   ],
   "source": [
    "# Importing Libraries\n",
    "\n",
    "from keras.preprocessing.image import ImageDataGenerator\n",
    "from keras.models import Sequential\n",
    "from keras.layers import Conv2D,MaxPooling2D,Flatten,Activation,BatchNormalization\n",
    "from keras.optimizers import Adam,SGD"
   ]
  },
  {
   "cell_type": "markdown",
   "metadata": {
    "colab_type": "text",
    "id": "_VBRJD_KQg4f"
   },
   "source": [
    "__Loading Images__"
   ]
  },
  {
   "cell_type": "code",
   "execution_count": 0,
   "metadata": {
    "colab": {
     "base_uri": "https://localhost:8080/",
     "height": 134
    },
    "colab_type": "code",
    "id": "aGMUYki6P-k3",
    "outputId": "cecddf41-d2b0-4e29-99fd-bef807b6d975"
   },
   "outputs": [
    {
     "name": "stdout",
     "output_type": "stream",
     "text": [
      "Cloning into 'DevanagariHandwrittenCharacterDataset'...\n",
      "remote: Enumerating objects: 92075, done.\u001b[K\n",
      "remote: Counting objects: 100% (92075/92075), done.\u001b[K\n",
      "remote: Compressing objects: 100% (92073/92073), done.\u001b[K\n",
      "remote: Total 92075 (delta 0), reused 92075 (delta 0), pack-reused 0\u001b[K\n",
      "Receiving objects: 100% (92075/92075), 56.74 MiB | 24.35 MiB/s, done.\n",
      "Checking out files: 100% (92001/92001), done.\n"
     ]
    }
   ],
   "source": [
    "! git clone https://github.com/EbinAbraham/DevanagariHandwrittenCharacterDataset.git"
   ]
  },
  {
   "cell_type": "code",
   "execution_count": 0,
   "metadata": {
    "colab": {
     "base_uri": "https://localhost:8080/",
     "height": 34
    },
    "colab_type": "code",
    "id": "CFE234TAP-ng",
    "outputId": "3d9c5548-590f-4a76-b680-7576bd3a13f6"
   },
   "outputs": [
    {
     "name": "stdout",
     "output_type": "stream",
     "text": [
      "DevanagariHandwrittenCharacterDataset  sample_data\n"
     ]
    }
   ],
   "source": [
    "! ls"
   ]
  },
  {
   "cell_type": "code",
   "execution_count": 0,
   "metadata": {
    "colab": {
     "base_uri": "https://localhost:8080/",
     "height": 34
    },
    "colab_type": "code",
    "id": "e1vRoexsNy54",
    "outputId": "7e5f39b4-6ee1-48cc-8078-66238cab4f7e"
   },
   "outputs": [
    {
     "name": "stdout",
     "output_type": "stream",
     "text": [
      "Found 78200 images belonging to 46 classes.\n"
     ]
    }
   ],
   "source": [
    "# Importing Training Images\n",
    "\n",
    "datagen=ImageDataGenerator()\n",
    "img=datagen.flow_from_directory('/content/DevanagariHandwrittenCharacterDataset/Train')"
   ]
  },
  {
   "cell_type": "code",
   "execution_count": 0,
   "metadata": {
    "colab": {
     "base_uri": "https://localhost:8080/",
     "height": 34
    },
    "colab_type": "code",
    "id": "Q6jPeuAaNzHa",
    "outputId": "51b3dd0c-c9af-4fd1-9919-e9579684c37e"
   },
   "outputs": [
    {
     "name": "stdout",
     "output_type": "stream",
     "text": [
      "Found 13800 images belonging to 46 classes.\n"
     ]
    }
   ],
   "source": [
    "# Importing Testing Images\n",
    "\n",
    "img_test=datagen.flow_from_directory('/content/DevanagariHandwrittenCharacterDataset/Test')"
   ]
  },
  {
   "cell_type": "markdown",
   "metadata": {
    "colab_type": "text",
    "id": "fmzFeSBePLbw"
   },
   "source": [
    "__CNN Model__"
   ]
  },
  {
   "cell_type": "code",
   "execution_count": 0,
   "metadata": {
    "colab": {},
    "colab_type": "code",
    "id": "T0K1y4QbNy8v"
   },
   "outputs": [],
   "source": [
    "model=Sequential()\n",
    "model.add(Conv2D(16,3, activation='relu',input_shape=(256,256,3)))\n",
    "model.add(Conv2D(32,3, activation='relu'))\n",
    "model.add(Conv2D(32,3, activation='relu'))\n",
    "model.add(MaxPooling2D(pool_size=(2,2)))\n",
    "model.add(BatchNormalization())\n",
    "model.add(Conv2D(48,3, activation='relu'))\n",
    "model.add(Conv2D(48,3, activation='relu'))\n",
    "model.add(MaxPooling2D(pool_size=(2,2)))\n",
    "model.add(BatchNormalization())\n",
    "model.add(Conv2D(64,3, activation='relu'))\n",
    "model.add(Conv2D(64,3, activation='relu'))\n",
    "model.add(MaxPooling2D(pool_size=(2,2)))\n",
    "model.add(BatchNormalization())\n",
    "model.add(Conv2D(72,3, activation='relu'))\n",
    "model.add(Conv2D(72,3, activation='relu'))\n",
    "model.add(MaxPooling2D(pool_size=(2,2)))\n",
    "model.add(Conv2D(72,3, activation='relu'))\n",
    "model.add(Conv2D(80,3, activation='relu'))\n",
    "model.add(Conv2D(46,8))\n",
    "model.add(Flatten())\n",
    "model.add(Activation('softmax'))"
   ]
  },
  {
   "cell_type": "code",
   "execution_count": 0,
   "metadata": {
    "colab": {
     "base_uri": "https://localhost:8080/",
     "height": 840
    },
    "colab_type": "code",
    "id": "1LskGv9MNy_E",
    "outputId": "f7d55e72-17d7-4b02-cf28-15971b223b1d"
   },
   "outputs": [
    {
     "name": "stdout",
     "output_type": "stream",
     "text": [
      "_________________________________________________________________\n",
      "Layer (type)                 Output Shape              Param #   \n",
      "=================================================================\n",
      "conv2d_12 (Conv2D)           (None, 254, 254, 16)      448       \n",
      "_________________________________________________________________\n",
      "conv2d_13 (Conv2D)           (None, 252, 252, 32)      4640      \n",
      "_________________________________________________________________\n",
      "conv2d_14 (Conv2D)           (None, 250, 250, 32)      9248      \n",
      "_________________________________________________________________\n",
      "max_pooling2d_5 (MaxPooling2 (None, 125, 125, 32)      0         \n",
      "_________________________________________________________________\n",
      "batch_normalization_4 (Batch (None, 125, 125, 32)      128       \n",
      "_________________________________________________________________\n",
      "conv2d_15 (Conv2D)           (None, 123, 123, 48)      13872     \n",
      "_________________________________________________________________\n",
      "conv2d_16 (Conv2D)           (None, 121, 121, 48)      20784     \n",
      "_________________________________________________________________\n",
      "max_pooling2d_6 (MaxPooling2 (None, 60, 60, 48)        0         \n",
      "_________________________________________________________________\n",
      "batch_normalization_5 (Batch (None, 60, 60, 48)        192       \n",
      "_________________________________________________________________\n",
      "conv2d_17 (Conv2D)           (None, 58, 58, 64)        27712     \n",
      "_________________________________________________________________\n",
      "conv2d_18 (Conv2D)           (None, 56, 56, 64)        36928     \n",
      "_________________________________________________________________\n",
      "max_pooling2d_7 (MaxPooling2 (None, 28, 28, 64)        0         \n",
      "_________________________________________________________________\n",
      "batch_normalization_6 (Batch (None, 28, 28, 64)        256       \n",
      "_________________________________________________________________\n",
      "conv2d_19 (Conv2D)           (None, 26, 26, 72)        41544     \n",
      "_________________________________________________________________\n",
      "conv2d_20 (Conv2D)           (None, 24, 24, 72)        46728     \n",
      "_________________________________________________________________\n",
      "max_pooling2d_8 (MaxPooling2 (None, 12, 12, 72)        0         \n",
      "_________________________________________________________________\n",
      "conv2d_21 (Conv2D)           (None, 10, 10, 72)        46728     \n",
      "_________________________________________________________________\n",
      "conv2d_22 (Conv2D)           (None, 8, 8, 80)          51920     \n",
      "_________________________________________________________________\n",
      "conv2d_23 (Conv2D)           (None, 1, 1, 46)          235566    \n",
      "_________________________________________________________________\n",
      "flatten_2 (Flatten)          (None, 46)                0         \n",
      "_________________________________________________________________\n",
      "activation_2 (Activation)    (None, 46)                0         \n",
      "=================================================================\n",
      "Total params: 536,694\n",
      "Trainable params: 536,406\n",
      "Non-trainable params: 288\n",
      "_________________________________________________________________\n"
     ]
    }
   ],
   "source": [
    "model.summary()"
   ]
  },
  {
   "cell_type": "code",
   "execution_count": 0,
   "metadata": {
    "colab": {},
    "colab_type": "code",
    "id": "jb7f4RJ6NzCK"
   },
   "outputs": [],
   "source": [
    "model.compile(optimizer='adam',loss='categorical_crossentropy',metrics=['accuracy'])"
   ]
  },
  {
   "cell_type": "code",
   "execution_count": 0,
   "metadata": {
    "colab": {
     "base_uri": "https://localhost:8080/",
     "height": 1025
    },
    "colab_type": "code",
    "id": "U8wrFhHMNzEX",
    "outputId": "a58ba1f3-618a-403d-eae3-829eddcb05d0"
   },
   "outputs": [
    {
     "name": "stdout",
     "output_type": "stream",
     "text": [
      "Epoch 1/30\n",
      "768/768 [==============================] - 333s 433ms/step - loss: 0.7247 - acc: 0.7976 - val_loss: 0.3105 - val_acc: 0.9122\n",
      "Epoch 2/30\n",
      "768/768 [==============================] - 331s 430ms/step - loss: 0.2351 - acc: 0.9290 - val_loss: 0.4198 - val_acc: 0.9051\n",
      "Epoch 3/30\n",
      "768/768 [==============================] - 330s 430ms/step - loss: 0.1724 - acc: 0.9480 - val_loss: 0.1209 - val_acc: 0.9646\n",
      "Epoch 4/30\n",
      "768/768 [==============================] - 329s 429ms/step - loss: 0.1145 - acc: 0.9661 - val_loss: 0.1968 - val_acc: 0.9437\n",
      "Epoch 5/30\n",
      "768/768 [==============================] - 330s 429ms/step - loss: 0.1090 - acc: 0.9659 - val_loss: 0.1212 - val_acc: 0.9647\n",
      "Epoch 6/30\n",
      "768/768 [==============================] - 329s 428ms/step - loss: 0.1016 - acc: 0.9702 - val_loss: 0.1265 - val_acc: 0.9635\n",
      "Epoch 7/30\n",
      "768/768 [==============================] - 329s 429ms/step - loss: 0.0799 - acc: 0.9744 - val_loss: 0.1210 - val_acc: 0.9669\n",
      "Epoch 8/30\n",
      "768/768 [==============================] - 329s 429ms/step - loss: 0.0665 - acc: 0.9785 - val_loss: 0.1685 - val_acc: 0.9594\n",
      "Epoch 9/30\n",
      "768/768 [==============================] - 329s 429ms/step - loss: 0.0659 - acc: 0.9795 - val_loss: 0.1245 - val_acc: 0.9646\n",
      "Epoch 10/30\n",
      "768/768 [==============================] - 329s 428ms/step - loss: 0.0612 - acc: 0.9806 - val_loss: 0.1115 - val_acc: 0.9739\n",
      "Epoch 11/30\n",
      "768/768 [==============================] - 329s 428ms/step - loss: 0.0494 - acc: 0.9847 - val_loss: 0.1050 - val_acc: 0.9669\n",
      "Epoch 12/30\n",
      "768/768 [==============================] - 328s 428ms/step - loss: 0.0526 - acc: 0.9845 - val_loss: 0.1243 - val_acc: 0.9640\n",
      "Epoch 13/30\n",
      "768/768 [==============================] - 329s 428ms/step - loss: 0.0535 - acc: 0.9828 - val_loss: 0.0890 - val_acc: 0.9737\n",
      "Epoch 14/30\n",
      "768/768 [==============================] - 329s 428ms/step - loss: 0.0359 - acc: 0.9885 - val_loss: 0.1654 - val_acc: 0.9683\n",
      "Epoch 15/30\n",
      "768/768 [==============================] - 329s 429ms/step - loss: 0.0444 - acc: 0.9855 - val_loss: 0.1036 - val_acc: 0.9716\n",
      "Epoch 16/30\n",
      "768/768 [==============================] - 329s 429ms/step - loss: 0.0395 - acc: 0.9874 - val_loss: 0.1102 - val_acc: 0.9736\n",
      "Epoch 17/30\n",
      "768/768 [==============================] - 329s 428ms/step - loss: 0.0292 - acc: 0.9902 - val_loss: 0.1006 - val_acc: 0.9774\n",
      "Epoch 18/30\n",
      "768/768 [==============================] - 329s 429ms/step - loss: 0.0320 - acc: 0.9895 - val_loss: 0.0921 - val_acc: 0.9775\n",
      "Epoch 19/30\n",
      "768/768 [==============================] - 329s 429ms/step - loss: 0.0331 - acc: 0.9895 - val_loss: 0.0968 - val_acc: 0.9771\n",
      "Epoch 20/30\n",
      "768/768 [==============================] - 329s 428ms/step - loss: 0.0264 - acc: 0.9913 - val_loss: 0.1019 - val_acc: 0.9757\n",
      "Epoch 21/30\n",
      "768/768 [==============================] - 329s 429ms/step - loss: 0.0291 - acc: 0.9906 - val_loss: 0.1148 - val_acc: 0.9748\n",
      "Epoch 22/30\n",
      "768/768 [==============================] - 329s 428ms/step - loss: 0.0290 - acc: 0.9913 - val_loss: 0.1252 - val_acc: 0.9641\n",
      "Epoch 23/30\n",
      "768/768 [==============================] - 328s 428ms/step - loss: 0.0223 - acc: 0.9934 - val_loss: 0.1368 - val_acc: 0.9744\n",
      "Epoch 24/30\n",
      "768/768 [==============================] - 329s 428ms/step - loss: 0.0267 - acc: 0.9917 - val_loss: 0.1063 - val_acc: 0.9746\n",
      "Epoch 25/30\n",
      "768/768 [==============================] - 328s 427ms/step - loss: 0.0272 - acc: 0.9915 - val_loss: 0.0933 - val_acc: 0.9782\n",
      "Epoch 26/30\n",
      "768/768 [==============================] - 328s 427ms/step - loss: 0.0249 - acc: 0.9921 - val_loss: 0.1066 - val_acc: 0.9769\n",
      "Epoch 27/30\n",
      "768/768 [==============================] - 328s 427ms/step - loss: 0.0242 - acc: 0.9925 - val_loss: 0.1203 - val_acc: 0.9774\n",
      "Epoch 28/30\n",
      "768/768 [==============================] - 328s 427ms/step - loss: 0.0273 - acc: 0.9915 - val_loss: 0.0929 - val_acc: 0.9767\n",
      "Epoch 29/30\n",
      "768/768 [==============================] - 328s 427ms/step - loss: 0.0226 - acc: 0.9927 - val_loss: 0.0785 - val_acc: 0.9816\n",
      "Epoch 30/30\n",
      "768/768 [==============================] - 328s 427ms/step - loss: 0.0185 - acc: 0.9947 - val_loss: 0.1112 - val_acc: 0.9753\n"
     ]
    }
   ],
   "source": [
    "m=model.fit_generator(img, epochs=30,steps_per_epoch=768,validation_data=img_test,validation_steps=512)  #e=563 for 128, e=1125 for 64"
   ]
  },
  {
   "cell_type": "code",
   "execution_count": 0,
   "metadata": {
    "colab": {
     "base_uri": "https://localhost:8080/",
     "height": 34
    },
    "colab_type": "code",
    "id": "OhNlHpHClgEP",
    "outputId": "8e256ff9-9fb2-49e5-cd29-813b0b16fa1a"
   },
   "outputs": [
    {
     "name": "stdout",
     "output_type": "stream",
     "text": [
      "512/512 [==============================] - 65s 128ms/step\n"
     ]
    }
   ],
   "source": [
    "score = model.evaluate_generator(img_test, steps=512, verbose=1)"
   ]
  },
  {
   "cell_type": "code",
   "execution_count": 0,
   "metadata": {
    "colab": {
     "base_uri": "https://localhost:8080/",
     "height": 34
    },
    "colab_type": "code",
    "id": "J_d5_R9wpiRo",
    "outputId": "2b447b9a-3ab8-4790-ac62-c904c578715d"
   },
   "outputs": [
    {
     "name": "stdout",
     "output_type": "stream",
     "text": [
      "[0.11539693768398067, 0.976161369193154]\n"
     ]
    }
   ],
   "source": [
    "print(score)"
   ]
  }
 ],
 "metadata": {
  "accelerator": "GPU",
  "colab": {
   "collapsed_sections": [],
   "name": "Devanagari Handwritten Character Classification.ipynb",
   "provenance": [],
   "version": "0.3.2"
  },
  "kernelspec": {
   "display_name": "Python 3",
   "language": "python",
   "name": "python3"
  },
  "language_info": {
   "codemirror_mode": {
    "name": "ipython",
    "version": 3
   },
   "file_extension": ".py",
   "mimetype": "text/x-python",
   "name": "python",
   "nbconvert_exporter": "python",
   "pygments_lexer": "ipython3",
   "version": "3.6.5"
  }
 },
 "nbformat": 4,
 "nbformat_minor": 1
}
