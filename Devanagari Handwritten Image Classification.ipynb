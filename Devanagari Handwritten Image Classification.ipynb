{
 "cells": [
  {
   "cell_type": "code",
   "execution_count": 1,
   "metadata": {
    "colab": {
     "base_uri": "https://localhost:8080/",
     "height": 34
    },
    "colab_type": "code",
    "id": "bE4gIQoNNy38",
    "outputId": "5d2bac42-994c-452d-b87f-a11cc0a378cd"
   },
   "outputs": [
    {
     "name": "stderr",
     "output_type": "stream",
     "text": [
      "Using TensorFlow backend.\n"
     ]
    }
   ],
   "source": [
    "# Importing Libraries\n",
    "\n",
    "from keras.preprocessing.image import ImageDataGenerator\n",
    "from keras.models import Sequential\n",
    "from keras.layers import Conv2D,MaxPooling2D,Flatten,Activation,BatchNormalization\n",
    "from keras.optimizers import Adam,SGD"
   ]
  },
  {
   "cell_type": "markdown",
   "metadata": {
    "colab_type": "text",
    "id": "_VBRJD_KQg4f"
   },
   "source": [
    "__Loading Images__"
   ]
  },
  {
   "cell_type": "code",
   "execution_count": 2,
   "metadata": {
    "colab": {
     "base_uri": "https://localhost:8080/",
     "height": 134
    },
    "colab_type": "code",
    "id": "aGMUYki6P-k3",
    "outputId": "ce29e75e-dff1-45ed-c84e-d775889b8859"
   },
   "outputs": [
    {
     "name": "stdout",
     "output_type": "stream",
     "text": [
      "Cloning into 'DevanagariHandwrittenCharacterDataset'...\n",
      "remote: Enumerating objects: 92075, done.\u001b[K\n",
      "remote: Counting objects: 100% (92075/92075), done.\u001b[K\n",
      "remote: Compressing objects: 100% (92073/92073), done.\u001b[K\n",
      "remote: Total 92075 (delta 0), reused 92075 (delta 0), pack-reused 0\u001b[K\n",
      "Receiving objects: 100% (92075/92075), 56.74 MiB | 10.06 MiB/s, done.\n",
      "Checking out files: 100% (92001/92001), done.\n"
     ]
    }
   ],
   "source": [
    "! git clone https://github.com/EbinAbraham/DevanagariHandwrittenCharacterDataset.git"
   ]
  },
  {
   "cell_type": "code",
   "execution_count": 0,
   "metadata": {
    "colab": {
     "base_uri": "https://localhost:8080/",
     "height": 34
    },
    "colab_type": "code",
    "id": "CFE234TAP-ng",
    "outputId": "2d4763ae-fcf4-46ef-fc64-90006f25f71c"
   },
   "outputs": [
    {
     "name": "stdout",
     "output_type": "stream",
     "text": [
      "DevanagariHandwrittenCharacterDataset  sample_data\n"
     ]
    }
   ],
   "source": [
    "! ls"
   ]
  },
  {
   "cell_type": "code",
   "execution_count": 3,
   "metadata": {
    "colab": {
     "base_uri": "https://localhost:8080/",
     "height": 34
    },
    "colab_type": "code",
    "id": "e1vRoexsNy54",
    "outputId": "9a9f2b57-c90c-47a3-9cad-13b8a159ef9b"
   },
   "outputs": [
    {
     "name": "stdout",
     "output_type": "stream",
     "text": [
      "Found 78200 images belonging to 46 classes.\n"
     ]
    }
   ],
   "source": [
    "# Importing Training Images\n",
    "\n",
    "datagen=ImageDataGenerator()\n",
    "img=datagen.flow_from_directory('/content/DevanagariHandwrittenCharacterDataset/Train')"
   ]
  },
  {
   "cell_type": "code",
   "execution_count": 4,
   "metadata": {
    "colab": {
     "base_uri": "https://localhost:8080/",
     "height": 34
    },
    "colab_type": "code",
    "id": "Q6jPeuAaNzHa",
    "outputId": "8b7050a5-fe97-42be-de7e-1ebc20362718"
   },
   "outputs": [
    {
     "name": "stdout",
     "output_type": "stream",
     "text": [
      "Found 13800 images belonging to 46 classes.\n"
     ]
    }
   ],
   "source": [
    "# Importing Testing Images\n",
    "\n",
    "img_test=datagen.flow_from_directory('/content/DevanagariHandwrittenCharacterDataset/Test')"
   ]
  },
  {
   "cell_type": "markdown",
   "metadata": {
    "colab_type": "text",
    "id": "fmzFeSBePLbw"
   },
   "source": [
    "__CNN Model__"
   ]
  },
  {
   "cell_type": "code",
   "execution_count": 0,
   "metadata": {
    "colab": {},
    "colab_type": "code",
    "id": "T0K1y4QbNy8v"
   },
   "outputs": [],
   "source": [
    "model=Sequential()\n",
    "model.add(Conv2D(16,3, activation='relu',input_shape=(256,256,3)))\n",
    "model.add(Conv2D(32,3, activation='relu'))\n",
    "model.add(Conv2D(32,3, activation='relu'))\n",
    "model.add(MaxPooling2D(pool_size=(2,2)))\n",
    "model.add(BatchNormalization())\n",
    "model.add(Conv2D(48,3, activation='relu'))\n",
    "model.add(Conv2D(48,3, activation='relu'))\n",
    "model.add(MaxPooling2D(pool_size=(2,2)))\n",
    "model.add(BatchNormalization())\n",
    "model.add(Conv2D(64,3, activation='relu'))\n",
    "model.add(Conv2D(64,3, activation='relu'))\n",
    "model.add(MaxPooling2D(pool_size=(2,2)))\n",
    "model.add(BatchNormalization())\n",
    "model.add(Conv2D(72,3, activation='relu'))\n",
    "model.add(Conv2D(72,3, activation='relu'))\n",
    "model.add(MaxPooling2D(pool_size=(2,2)))\n",
    "model.add(Conv2D(72,3, activation='relu'))\n",
    "model.add(Conv2D(72,3, activation='relu'))\n",
    "model.add(Conv2D(80,3, activation='relu'))\n",
    "model.add(Conv2D(46,6))\n",
    "model.add(Flatten())\n",
    "model.add(Activation('softmax'))"
   ]
  },
  {
   "cell_type": "code",
   "execution_count": 6,
   "metadata": {
    "colab": {
     "base_uri": "https://localhost:8080/",
     "height": 874
    },
    "colab_type": "code",
    "id": "1LskGv9MNy_E",
    "outputId": "f0fe2f32-ebad-4c5c-f1b3-a0b6b175ae56"
   },
   "outputs": [
    {
     "name": "stdout",
     "output_type": "stream",
     "text": [
      "_________________________________________________________________\n",
      "Layer (type)                 Output Shape              Param #   \n",
      "=================================================================\n",
      "conv2d_1 (Conv2D)            (None, 254, 254, 16)      448       \n",
      "_________________________________________________________________\n",
      "conv2d_2 (Conv2D)            (None, 252, 252, 32)      4640      \n",
      "_________________________________________________________________\n",
      "conv2d_3 (Conv2D)            (None, 250, 250, 32)      9248      \n",
      "_________________________________________________________________\n",
      "max_pooling2d_1 (MaxPooling2 (None, 125, 125, 32)      0         \n",
      "_________________________________________________________________\n",
      "batch_normalization_1 (Batch (None, 125, 125, 32)      128       \n",
      "_________________________________________________________________\n",
      "conv2d_4 (Conv2D)            (None, 123, 123, 48)      13872     \n",
      "_________________________________________________________________\n",
      "conv2d_5 (Conv2D)            (None, 121, 121, 48)      20784     \n",
      "_________________________________________________________________\n",
      "max_pooling2d_2 (MaxPooling2 (None, 60, 60, 48)        0         \n",
      "_________________________________________________________________\n",
      "batch_normalization_2 (Batch (None, 60, 60, 48)        192       \n",
      "_________________________________________________________________\n",
      "conv2d_6 (Conv2D)            (None, 58, 58, 64)        27712     \n",
      "_________________________________________________________________\n",
      "conv2d_7 (Conv2D)            (None, 56, 56, 64)        36928     \n",
      "_________________________________________________________________\n",
      "max_pooling2d_3 (MaxPooling2 (None, 28, 28, 64)        0         \n",
      "_________________________________________________________________\n",
      "batch_normalization_3 (Batch (None, 28, 28, 64)        256       \n",
      "_________________________________________________________________\n",
      "conv2d_8 (Conv2D)            (None, 26, 26, 72)        41544     \n",
      "_________________________________________________________________\n",
      "conv2d_9 (Conv2D)            (None, 24, 24, 72)        46728     \n",
      "_________________________________________________________________\n",
      "max_pooling2d_4 (MaxPooling2 (None, 12, 12, 72)        0         \n",
      "_________________________________________________________________\n",
      "conv2d_10 (Conv2D)           (None, 10, 10, 72)        46728     \n",
      "_________________________________________________________________\n",
      "conv2d_11 (Conv2D)           (None, 8, 8, 72)          46728     \n",
      "_________________________________________________________________\n",
      "conv2d_12 (Conv2D)           (None, 6, 6, 80)          51920     \n",
      "_________________________________________________________________\n",
      "conv2d_13 (Conv2D)           (None, 1, 1, 46)          132526    \n",
      "_________________________________________________________________\n",
      "flatten_1 (Flatten)          (None, 46)                0         \n",
      "_________________________________________________________________\n",
      "activation_1 (Activation)    (None, 46)                0         \n",
      "=================================================================\n",
      "Total params: 480,382\n",
      "Trainable params: 480,094\n",
      "Non-trainable params: 288\n",
      "_________________________________________________________________\n"
     ]
    }
   ],
   "source": [
    "model.summary()"
   ]
  },
  {
   "cell_type": "code",
   "execution_count": 0,
   "metadata": {
    "colab": {},
    "colab_type": "code",
    "id": "jb7f4RJ6NzCK"
   },
   "outputs": [],
   "source": [
    "model.compile(optimizer='adadelta',loss='categorical_crossentropy',metrics=['accuracy'])"
   ]
  },
  {
   "cell_type": "code",
   "execution_count": 8,
   "metadata": {
    "colab": {
     "base_uri": "https://localhost:8080/",
     "height": 857
    },
    "colab_type": "code",
    "id": "U8wrFhHMNzEX",
    "outputId": "bf4e3ef1-e111-4dbf-d159-138ed43626db"
   },
   "outputs": [
    {
     "name": "stdout",
     "output_type": "stream",
     "text": [
      "Epoch 1/25\n",
      "840/840 [==============================] - 380s 453ms/step - loss: 1.0710 - acc: 0.7048 - val_loss: 0.3795 - val_acc: 0.8924\n",
      "Epoch 2/25\n",
      "840/840 [==============================] - 375s 446ms/step - loss: 0.2565 - acc: 0.9219 - val_loss: 0.2726 - val_acc: 0.9211\n",
      "Epoch 3/25\n",
      "840/840 [==============================] - 376s 448ms/step - loss: 0.1620 - acc: 0.9517 - val_loss: 0.1646 - val_acc: 0.9528\n",
      "Epoch 4/25\n",
      "840/840 [==============================] - 374s 445ms/step - loss: 0.1067 - acc: 0.9674 - val_loss: 0.1185 - val_acc: 0.9645\n",
      "Epoch 5/25\n",
      "840/840 [==============================] - 374s 445ms/step - loss: 0.0962 - acc: 0.9708 - val_loss: 0.1135 - val_acc: 0.9654\n",
      "Epoch 6/25\n",
      "840/840 [==============================] - 374s 445ms/step - loss: 0.0837 - acc: 0.9748 - val_loss: 0.1033 - val_acc: 0.9708\n",
      "Epoch 7/25\n",
      "840/840 [==============================] - 374s 445ms/step - loss: 0.0584 - acc: 0.9823 - val_loss: 0.0846 - val_acc: 0.9791\n",
      "Epoch 8/25\n",
      "840/840 [==============================] - 373s 444ms/step - loss: 0.0601 - acc: 0.9827 - val_loss: 0.0828 - val_acc: 0.9767\n",
      "Epoch 9/25\n",
      "840/840 [==============================] - 373s 444ms/step - loss: 0.0498 - acc: 0.9850 - val_loss: 0.0935 - val_acc: 0.9745\n",
      "Epoch 10/25\n",
      "840/840 [==============================] - 373s 444ms/step - loss: 0.0384 - acc: 0.9884 - val_loss: 0.0840 - val_acc: 0.9764\n",
      "Epoch 11/25\n",
      "840/840 [==============================] - 374s 445ms/step - loss: 0.0411 - acc: 0.9877 - val_loss: 0.0973 - val_acc: 0.9779\n",
      "Epoch 12/25\n",
      "840/840 [==============================] - 373s 444ms/step - loss: 0.0316 - acc: 0.9902 - val_loss: 0.0824 - val_acc: 0.9821\n",
      "Epoch 13/25\n",
      "840/840 [==============================] - 373s 444ms/step - loss: 0.0275 - acc: 0.9920 - val_loss: 0.1100 - val_acc: 0.9787\n",
      "Epoch 14/25\n",
      "840/840 [==============================] - 373s 444ms/step - loss: 0.0293 - acc: 0.9916 - val_loss: 0.0761 - val_acc: 0.9822\n",
      "Epoch 15/25\n",
      "840/840 [==============================] - 372s 443ms/step - loss: 0.0236 - acc: 0.9929 - val_loss: 0.0804 - val_acc: 0.9832\n",
      "Epoch 16/25\n",
      "840/840 [==============================] - 372s 443ms/step - loss: 0.0197 - acc: 0.9947 - val_loss: 0.0879 - val_acc: 0.9829\n",
      "Epoch 17/25\n",
      "840/840 [==============================] - 372s 443ms/step - loss: 0.0266 - acc: 0.9923 - val_loss: 0.1048 - val_acc: 0.9798\n",
      "Epoch 18/25\n",
      "840/840 [==============================] - 372s 443ms/step - loss: 0.0187 - acc: 0.9944 - val_loss: 0.0932 - val_acc: 0.9828\n",
      "Epoch 19/25\n",
      "840/840 [==============================] - 372s 443ms/step - loss: 0.0151 - acc: 0.9953 - val_loss: 0.0843 - val_acc: 0.9800\n",
      "Epoch 20/25\n",
      "840/840 [==============================] - 372s 443ms/step - loss: 0.0222 - acc: 0.9942 - val_loss: 0.0864 - val_acc: 0.9827\n",
      "Epoch 21/25\n",
      "840/840 [==============================] - 372s 443ms/step - loss: 0.0120 - acc: 0.9965 - val_loss: 0.1116 - val_acc: 0.9812\n",
      "Epoch 22/25\n",
      "840/840 [==============================] - 372s 443ms/step - loss: 0.0141 - acc: 0.9962 - val_loss: 0.0958 - val_acc: 0.9826\n",
      "Epoch 23/25\n",
      "840/840 [==============================] - 372s 443ms/step - loss: 0.0164 - acc: 0.9958 - val_loss: 0.1104 - val_acc: 0.9845\n",
      "Epoch 24/25\n",
      "840/840 [==============================] - 373s 444ms/step - loss: 0.0140 - acc: 0.9964 - val_loss: 0.0930 - val_acc: 0.9861\n",
      "Epoch 25/25\n",
      "840/840 [==============================] - 373s 444ms/step - loss: 0.0112 - acc: 0.9972 - val_loss: 0.1061 - val_acc: 0.9848\n"
     ]
    }
   ],
   "source": [
    "m=model.fit_generator(img, epochs=25,steps_per_epoch=840,validation_data=img_test,validation_steps=640)  #e=563 for 128, e=1125 for 64"
   ]
  },
  {
   "cell_type": "code",
   "execution_count": 9,
   "metadata": {
    "colab": {
     "base_uri": "https://localhost:8080/",
     "height": 34
    },
    "colab_type": "code",
    "id": "OhNlHpHClgEP",
    "outputId": "fc51f7ae-e3c2-4bad-ee06-d1737d342f24"
   },
   "outputs": [
    {
     "name": "stdout",
     "output_type": "stream",
     "text": [
      "512/512 [==============================] - 65s 127ms/step\n"
     ]
    }
   ],
   "source": [
    "score = model.evaluate_generator(img_test, steps=512, verbose=1)"
   ]
  },
  {
   "cell_type": "code",
   "execution_count": 10,
   "metadata": {
    "colab": {
     "base_uri": "https://localhost:8080/",
     "height": 34
    },
    "colab_type": "code",
    "id": "J_d5_R9wpiRo",
    "outputId": "a007f5b8-e81f-42a1-f614-4363d6c98dd8"
   },
   "outputs": [
    {
     "name": "stdout",
     "output_type": "stream",
     "text": [
      "[0.1024271719848077, 0.9844743276283618]\n"
     ]
    }
   ],
   "source": [
    "print(score)"
   ]
  }
 ],
 "metadata": {
  "accelerator": "GPU",
  "colab": {
   "collapsed_sections": [],
   "name": "Devanagari Handwritten Character Classification.ipynb",
   "provenance": [],
   "version": "0.3.2"
  },
  "kernelspec": {
   "display_name": "Python 3",
   "language": "python",
   "name": "python3"
  },
  "language_info": {
   "codemirror_mode": {
    "name": "ipython",
    "version": 3
   },
   "file_extension": ".py",
   "mimetype": "text/x-python",
   "name": "python",
   "nbconvert_exporter": "python",
   "pygments_lexer": "ipython3",
   "version": "3.6.5"
  }
 },
 "nbformat": 4,
 "nbformat_minor": 1
}
