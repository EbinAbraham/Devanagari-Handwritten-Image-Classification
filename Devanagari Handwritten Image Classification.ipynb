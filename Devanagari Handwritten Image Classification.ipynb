{
  "nbformat": 4,
  "nbformat_minor": 0,
  "metadata": {
    "colab": {
      "name": "Devanagari Handwritten Character Classification.ipynb",
      "version": "0.3.2",
      "provenance": [],
      "collapsed_sections": []
    },
    "kernelspec": {
      "name": "python3",
      "display_name": "Python 3"
    },
    "accelerator": "GPU"
  },
  "cells": [
    {
      "metadata": {
        "id": "bE4gIQoNNy38",
        "colab_type": "code",
        "outputId": "05c690a6-aa06-4d8f-ab31-903b68a675ed",
        "colab": {
          "base_uri": "https://localhost:8080/",
          "height": 34
        }
      },
      "cell_type": "code",
      "source": [
        "# Importing Libraries\n",
        "\n",
        "from keras.preprocessing.image import ImageDataGenerator\n",
        "from keras.models import Sequential\n",
        "from keras.layers import Conv2D,MaxPooling2D,Flatten,Activation,BatchNormalization\n",
        "from keras.optimizers import Adam,SGD"
      ],
      "execution_count": 1,
      "outputs": [
        {
          "output_type": "stream",
          "text": [
            "Using TensorFlow backend.\n"
          ],
          "name": "stderr"
        }
      ]
    },
    {
      "metadata": {
        "id": "_VBRJD_KQg4f",
        "colab_type": "text"
      },
      "cell_type": "markdown",
      "source": [
        "__Loading Images__"
      ]
    },
    {
      "metadata": {
        "id": "aGMUYki6P-k3",
        "colab_type": "code",
        "outputId": "e91575e9-51f8-4b9c-c14c-e52a4acff7a3",
        "colab": {
          "base_uri": "https://localhost:8080/",
          "height": 134
        }
      },
      "cell_type": "code",
      "source": [
        "! git clone https://github.com/EbinAbraham/DevanagariHandwrittenCharacterDataset.git"
      ],
      "execution_count": 2,
      "outputs": [
        {
          "output_type": "stream",
          "text": [
            "Cloning into 'DevanagariHandwrittenCharacterDataset'...\n",
            "remote: Enumerating objects: 92075, done.\u001b[K\n",
            "remote: Counting objects: 100% (92075/92075), done.\u001b[K\n",
            "remote: Compressing objects: 100% (92073/92073), done.\u001b[K\n",
            "remote: Total 92075 (delta 0), reused 92075 (delta 0), pack-reused 0\u001b[K\n",
            "Receiving objects: 100% (92075/92075), 56.74 MiB | 28.81 MiB/s, done.\n",
            "Checking out files: 100% (92001/92001), done.\n"
          ],
          "name": "stdout"
        }
      ]
    },
    {
      "metadata": {
        "id": "CFE234TAP-ng",
        "colab_type": "code",
        "outputId": "af95ae61-e8e7-492e-d5cc-d34f8c0fe505",
        "colab": {
          "base_uri": "https://localhost:8080/",
          "height": 34
        }
      },
      "cell_type": "code",
      "source": [
        "! ls"
      ],
      "execution_count": 3,
      "outputs": [
        {
          "output_type": "stream",
          "text": [
            "DevanagariHandwrittenCharacterDataset  sample_data\n"
          ],
          "name": "stdout"
        }
      ]
    },
    {
      "metadata": {
        "id": "e1vRoexsNy54",
        "colab_type": "code",
        "outputId": "183414f8-fe86-4565-a6b3-8ae07ed9e4a9",
        "colab": {
          "base_uri": "https://localhost:8080/",
          "height": 34
        }
      },
      "cell_type": "code",
      "source": [
        "# Importing Training Images\n",
        "\n",
        "datagen=ImageDataGenerator()\n",
        "img=datagen.flow_from_directory('/content/DevanagariHandwrittenCharacterDataset/Train')"
      ],
      "execution_count": 4,
      "outputs": [
        {
          "output_type": "stream",
          "text": [
            "Found 78200 images belonging to 46 classes.\n"
          ],
          "name": "stdout"
        }
      ]
    },
    {
      "metadata": {
        "id": "Q6jPeuAaNzHa",
        "colab_type": "code",
        "outputId": "f60df408-3358-44ed-8944-ad7850c85d1a",
        "colab": {
          "base_uri": "https://localhost:8080/",
          "height": 34
        }
      },
      "cell_type": "code",
      "source": [
        "# Importing Testing Images\n",
        "\n",
        "img_test=datagen.flow_from_directory('/content/DevanagariHandwrittenCharacterDataset/Test')"
      ],
      "execution_count": 5,
      "outputs": [
        {
          "output_type": "stream",
          "text": [
            "Found 13800 images belonging to 46 classes.\n"
          ],
          "name": "stdout"
        }
      ]
    },
    {
      "metadata": {
        "id": "fmzFeSBePLbw",
        "colab_type": "text"
      },
      "cell_type": "markdown",
      "source": [
        "__CNN Model__"
      ]
    },
    {
      "metadata": {
        "id": "T0K1y4QbNy8v",
        "colab_type": "code",
        "colab": {}
      },
      "cell_type": "code",
      "source": [
        "model=Sequential()\n",
        "model.add(Conv2D(16,3, activation='relu',input_shape=(256,256,3)))\n",
        "model.add(Conv2D(32,3, activation='relu'))\n",
        "model.add(Conv2D(32,3, activation='relu'))\n",
        "model.add(MaxPooling2D(pool_size=(2,2)))\n",
        "model.add(BatchNormalization())\n",
        "model.add(Conv2D(48,3, activation='relu'))\n",
        "model.add(Conv2D(48,3, activation='relu'))\n",
        "#model.add(Conv2D(48,3, activation='relu'))\n",
        "model.add(MaxPooling2D(pool_size=(2,2)))\n",
        "model.add(BatchNormalization())\n",
        "model.add(Conv2D(64,3, activation='relu'))\n",
        "model.add(Conv2D(64,3, activation='relu'))\n",
        "#model.add(Conv2D(64,3, activation='relu'))\n",
        "model.add(MaxPooling2D(pool_size=(2,2)))\n",
        "model.add(BatchNormalization())\n",
        "model.add(Conv2D(72,3, activation='relu'))\n",
        "model.add(Conv2D(72,3, activation='relu'))\n",
        "model.add(MaxPooling2D(pool_size=(2,2)))\n",
        "model.add(Conv2D(72,3, activation='relu'))\n",
        "#model.add(Conv2D(72,3, activation='relu'))\n",
        "#model.add(MaxPooling2D(pool_size=(2,2)))\n",
        "#model.add(BatchNormalization())\n",
        "model.add(Conv2D(80,3, activation='relu'))\n",
        "model.add(Conv2D(46,8))\n",
        "model.add(Flatten())\n",
        "model.add(Activation('softmax'))"
      ],
      "execution_count": 0,
      "outputs": []
    },
    {
      "metadata": {
        "id": "1LskGv9MNy_E",
        "colab_type": "code",
        "outputId": "ea90c8c7-d7c8-4c5a-f720-ecd98ecf1e1c",
        "colab": {
          "base_uri": "https://localhost:8080/",
          "height": 840
        }
      },
      "cell_type": "code",
      "source": [
        "model.summary()"
      ],
      "execution_count": 7,
      "outputs": [
        {
          "output_type": "stream",
          "text": [
            "_________________________________________________________________\n",
            "Layer (type)                 Output Shape              Param #   \n",
            "=================================================================\n",
            "conv2d_1 (Conv2D)            (None, 254, 254, 16)      448       \n",
            "_________________________________________________________________\n",
            "conv2d_2 (Conv2D)            (None, 252, 252, 32)      4640      \n",
            "_________________________________________________________________\n",
            "conv2d_3 (Conv2D)            (None, 250, 250, 32)      9248      \n",
            "_________________________________________________________________\n",
            "max_pooling2d_1 (MaxPooling2 (None, 125, 125, 32)      0         \n",
            "_________________________________________________________________\n",
            "batch_normalization_1 (Batch (None, 125, 125, 32)      128       \n",
            "_________________________________________________________________\n",
            "conv2d_4 (Conv2D)            (None, 123, 123, 48)      13872     \n",
            "_________________________________________________________________\n",
            "conv2d_5 (Conv2D)            (None, 121, 121, 48)      20784     \n",
            "_________________________________________________________________\n",
            "max_pooling2d_2 (MaxPooling2 (None, 60, 60, 48)        0         \n",
            "_________________________________________________________________\n",
            "batch_normalization_2 (Batch (None, 60, 60, 48)        192       \n",
            "_________________________________________________________________\n",
            "conv2d_6 (Conv2D)            (None, 58, 58, 64)        27712     \n",
            "_________________________________________________________________\n",
            "conv2d_7 (Conv2D)            (None, 56, 56, 64)        36928     \n",
            "_________________________________________________________________\n",
            "max_pooling2d_3 (MaxPooling2 (None, 28, 28, 64)        0         \n",
            "_________________________________________________________________\n",
            "batch_normalization_3 (Batch (None, 28, 28, 64)        256       \n",
            "_________________________________________________________________\n",
            "conv2d_8 (Conv2D)            (None, 26, 26, 72)        41544     \n",
            "_________________________________________________________________\n",
            "conv2d_9 (Conv2D)            (None, 24, 24, 72)        46728     \n",
            "_________________________________________________________________\n",
            "max_pooling2d_4 (MaxPooling2 (None, 12, 12, 72)        0         \n",
            "_________________________________________________________________\n",
            "conv2d_10 (Conv2D)           (None, 10, 10, 72)        46728     \n",
            "_________________________________________________________________\n",
            "conv2d_11 (Conv2D)           (None, 8, 8, 80)          51920     \n",
            "_________________________________________________________________\n",
            "conv2d_12 (Conv2D)           (None, 1, 1, 46)          235566    \n",
            "_________________________________________________________________\n",
            "flatten_1 (Flatten)          (None, 46)                0         \n",
            "_________________________________________________________________\n",
            "activation_1 (Activation)    (None, 46)                0         \n",
            "=================================================================\n",
            "Total params: 536,694\n",
            "Trainable params: 536,406\n",
            "Non-trainable params: 288\n",
            "_________________________________________________________________\n"
          ],
          "name": "stdout"
        }
      ]
    },
    {
      "metadata": {
        "id": "jb7f4RJ6NzCK",
        "colab_type": "code",
        "colab": {}
      },
      "cell_type": "code",
      "source": [
        "model.compile(optimizer='adam',loss='categorical_crossentropy',metrics=['accuracy'])"
      ],
      "execution_count": 0,
      "outputs": []
    },
    {
      "metadata": {
        "id": "U8wrFhHMNzEX",
        "colab_type": "code",
        "outputId": "05a153c1-1770-45d8-f761-a7bc6730b2f0",
        "colab": {
          "base_uri": "https://localhost:8080/",
          "height": 1193
        }
      },
      "cell_type": "code",
      "source": [
        "m=model.fit_generator(img, epochs=35,steps_per_epoch=768,validation_data=img_test,validation_steps=512)  #e=563 for 128, e=1125 for 64"
      ],
      "execution_count": 9,
      "outputs": [
        {
          "output_type": "stream",
          "text": [
            "Epoch 1/35\n",
            "768/768 [==============================] - 337s 438ms/step - loss: 0.7654 - acc: 0.7854 - val_loss: 0.3152 - val_acc: 0.9076\n",
            "Epoch 2/35\n",
            "768/768 [==============================] - 330s 430ms/step - loss: 0.2401 - acc: 0.9299 - val_loss: 0.1693 - val_acc: 0.9483\n",
            "Epoch 3/35\n",
            "768/768 [==============================] - 330s 430ms/step - loss: 0.1661 - acc: 0.9511 - val_loss: 0.2732 - val_acc: 0.9183\n",
            "Epoch 4/35\n",
            "768/768 [==============================] - 331s 431ms/step - loss: 0.1106 - acc: 0.9661 - val_loss: 0.1746 - val_acc: 0.9498\n",
            "Epoch 5/35\n",
            "768/768 [==============================] - 329s 429ms/step - loss: 0.1037 - acc: 0.9681 - val_loss: 0.1157 - val_acc: 0.9655\n",
            "Epoch 6/35\n",
            "768/768 [==============================] - 329s 429ms/step - loss: 0.0999 - acc: 0.9693 - val_loss: 0.0968 - val_acc: 0.9720\n",
            "Epoch 7/35\n",
            "768/768 [==============================] - 329s 429ms/step - loss: 0.0706 - acc: 0.9779 - val_loss: 0.1109 - val_acc: 0.9668\n",
            "Epoch 8/35\n",
            "768/768 [==============================] - 329s 429ms/step - loss: 0.0675 - acc: 0.9795 - val_loss: 0.1040 - val_acc: 0.9728\n",
            "Epoch 9/35\n",
            "768/768 [==============================] - 329s 428ms/step - loss: 0.0658 - acc: 0.9803 - val_loss: 0.1068 - val_acc: 0.9700\n",
            "Epoch 10/35\n",
            "768/768 [==============================] - 329s 428ms/step - loss: 0.0559 - acc: 0.9825 - val_loss: 0.0941 - val_acc: 0.9760\n",
            "Epoch 11/35\n",
            "768/768 [==============================] - 329s 428ms/step - loss: 0.0501 - acc: 0.9844 - val_loss: 0.1171 - val_acc: 0.9656\n",
            "Epoch 12/35\n",
            "768/768 [==============================] - 329s 429ms/step - loss: 0.0552 - acc: 0.9831 - val_loss: 0.1058 - val_acc: 0.9699\n",
            "Epoch 13/35\n",
            "768/768 [==============================] - 329s 428ms/step - loss: 0.0460 - acc: 0.9854 - val_loss: 0.1095 - val_acc: 0.9746\n",
            "Epoch 14/35\n",
            "768/768 [==============================] - 329s 428ms/step - loss: 0.0356 - acc: 0.9891 - val_loss: 0.1133 - val_acc: 0.9732\n",
            "Epoch 15/35\n",
            "768/768 [==============================] - 329s 428ms/step - loss: 0.0382 - acc: 0.9882 - val_loss: 0.1317 - val_acc: 0.9727\n",
            "Epoch 16/35\n",
            "768/768 [==============================] - 329s 428ms/step - loss: 0.0372 - acc: 0.9879 - val_loss: 0.0968 - val_acc: 0.9763\n",
            "Epoch 17/35\n",
            "768/768 [==============================] - 329s 428ms/step - loss: 0.0304 - acc: 0.9906 - val_loss: 0.1289 - val_acc: 0.9741\n",
            "Epoch 18/35\n",
            "768/768 [==============================] - 329s 428ms/step - loss: 0.0348 - acc: 0.9898 - val_loss: 0.1146 - val_acc: 0.9740\n",
            "Epoch 19/35\n",
            "768/768 [==============================] - 328s 428ms/step - loss: 0.0380 - acc: 0.9874 - val_loss: 0.0954 - val_acc: 0.9743\n",
            "Epoch 20/35\n",
            "768/768 [==============================] - 328s 427ms/step - loss: 0.0245 - acc: 0.9923 - val_loss: 0.0909 - val_acc: 0.9793\n",
            "Epoch 21/35\n",
            "768/768 [==============================] - 329s 428ms/step - loss: 0.0278 - acc: 0.9914 - val_loss: 0.1051 - val_acc: 0.9773\n",
            "Epoch 22/35\n",
            "768/768 [==============================] - 329s 428ms/step - loss: 0.0295 - acc: 0.9909 - val_loss: 0.1279 - val_acc: 0.9739\n",
            "Epoch 23/35\n",
            "768/768 [==============================] - 328s 428ms/step - loss: 0.0161 - acc: 0.9953 - val_loss: 0.1205 - val_acc: 0.9770\n",
            "Epoch 24/35\n",
            "768/768 [==============================] - 329s 429ms/step - loss: 0.0265 - acc: 0.9922 - val_loss: 0.1037 - val_acc: 0.9752\n",
            "Epoch 25/35\n",
            "768/768 [==============================] - 329s 428ms/step - loss: 0.0285 - acc: 0.9910 - val_loss: 0.1208 - val_acc: 0.9774\n",
            "Epoch 26/35\n",
            "768/768 [==============================] - 329s 428ms/step - loss: 0.0204 - acc: 0.9934 - val_loss: 0.1240 - val_acc: 0.9752\n",
            "Epoch 27/35\n",
            "768/768 [==============================] - 329s 428ms/step - loss: 0.0242 - acc: 0.9929 - val_loss: 0.0951 - val_acc: 0.9765\n",
            "Epoch 28/35\n",
            "768/768 [==============================] - 328s 427ms/step - loss: 0.0226 - acc: 0.9930 - val_loss: 0.1059 - val_acc: 0.9789\n",
            "Epoch 29/35\n",
            "768/768 [==============================] - 328s 427ms/step - loss: 0.0214 - acc: 0.9939 - val_loss: 0.0800 - val_acc: 0.9806\n",
            "Epoch 30/35\n",
            "768/768 [==============================] - 328s 427ms/step - loss: 0.0151 - acc: 0.9954 - val_loss: 0.1431 - val_acc: 0.9709\n",
            "Epoch 31/35\n",
            "768/768 [==============================] - 328s 427ms/step - loss: 0.0204 - acc: 0.9939 - val_loss: 0.0926 - val_acc: 0.9788\n",
            "Epoch 32/35\n",
            "768/768 [==============================] - 328s 427ms/step - loss: 0.0207 - acc: 0.9940 - val_loss: 0.1233 - val_acc: 0.9775\n",
            "Epoch 33/35\n",
            "768/768 [==============================] - 328s 427ms/step - loss: 0.0142 - acc: 0.9956 - val_loss: 0.1148 - val_acc: 0.9782\n",
            "Epoch 34/35\n",
            "768/768 [==============================] - 328s 427ms/step - loss: 0.0268 - acc: 0.9925 - val_loss: 0.1077 - val_acc: 0.9780\n",
            "Epoch 35/35\n",
            "768/768 [==============================] - 328s 427ms/step - loss: 0.0170 - acc: 0.9948 - val_loss: 0.0867 - val_acc: 0.9814\n"
          ],
          "name": "stdout"
        }
      ]
    },
    {
      "metadata": {
        "id": "OhNlHpHClgEP",
        "colab_type": "code",
        "outputId": "014e3a0a-ba93-41cd-b5fb-874aa7bc0115",
        "colab": {
          "base_uri": "https://localhost:8080/",
          "height": 34
        }
      },
      "cell_type": "code",
      "source": [
        "score = model.evaluate_generator(img_test, steps=512, verbose=1)"
      ],
      "execution_count": 10,
      "outputs": [
        {
          "output_type": "stream",
          "text": [
            "512/512 [==============================] - 65s 128ms/step\n"
          ],
          "name": "stdout"
        }
      ]
    },
    {
      "metadata": {
        "id": "J_d5_R9wpiRo",
        "colab_type": "code",
        "outputId": "1212ecef-bcf0-43e3-e0dc-b0e77b9608a2",
        "colab": {
          "base_uri": "https://localhost:8080/",
          "height": 34
        }
      },
      "cell_type": "code",
      "source": [
        "print(score)"
      ],
      "execution_count": 11,
      "outputs": [
        {
          "output_type": "stream",
          "text": [
            "[0.10318511784596666, 0.9795232273838631]\n"
          ],
          "name": "stdout"
        }
      ]
    },
    {
      "metadata": {
        "id": "336EPaSUySe-",
        "colab_type": "code",
        "outputId": "1cc86852-fef3-497d-ea0c-e6ff94fc915d",
        "colab": {
          "base_uri": "https://localhost:8080/",
          "height": 353
        }
      },
      "cell_type": "code",
      "source": [
        "for layer in model.layers:\n",
        "  print(layer, layer.trainable)"
      ],
      "execution_count": 0,
      "outputs": [
        {
          "output_type": "stream",
          "text": [
            "<keras.layers.convolutional.Conv2D object at 0x7f27622d6278> True\n",
            "<keras.layers.convolutional.Conv2D object at 0x7f27622d62e8> True\n",
            "<keras.layers.convolutional.Conv2D object at 0x7f27622d6550> True\n",
            "<keras.layers.pooling.MaxPooling2D object at 0x7f27601175c0> True\n",
            "<keras.layers.normalization.BatchNormalization object at 0x7f2760134860> True\n",
            "<keras.layers.convolutional.Conv2D object at 0x7f2760117748> True\n",
            "<keras.layers.convolutional.Conv2D object at 0x7f27601177f0> True\n",
            "<keras.layers.pooling.MaxPooling2D object at 0x7f276141bac8> True\n",
            "<keras.layers.normalization.BatchNormalization object at 0x7f2760db3a20> True\n",
            "<keras.layers.convolutional.Conv2D object at 0x7f276141ba20> True\n",
            "<keras.layers.convolutional.Conv2D object at 0x7f276141b978> True\n",
            "<keras.layers.pooling.MaxPooling2D object at 0x7f2760347ba8> True\n",
            "<keras.layers.normalization.BatchNormalization object at 0x7f27614e2f98> True\n",
            "<keras.layers.convolutional.Conv2D object at 0x7f2760347f60> True\n",
            "<keras.layers.convolutional.Conv2D object at 0x7f2760347b00> True\n",
            "<keras.layers.pooling.MaxPooling2D object at 0x7f2760254dd8> True\n",
            "<keras.layers.convolutional.Conv2D object at 0x7f27601577b8> True\n",
            "<keras.layers.convolutional.Conv2D object at 0x7f2760254ac8> True\n",
            "<keras.layers.core.Flatten object at 0x7f27603e08d0> True\n",
            "<keras.layers.core.Activation object at 0x7f27603eef60> True\n"
          ],
          "name": "stdout"
        }
      ]
    }
  ]
}