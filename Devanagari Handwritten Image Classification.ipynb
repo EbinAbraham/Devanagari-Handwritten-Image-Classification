{
 "cells": [
  {
   "cell_type": "code",
   "execution_count": 1,
   "metadata": {
    "colab": {
     "base_uri": "https://localhost:8080/",
     "height": 34
    },
    "colab_type": "code",
    "id": "bE4gIQoNNy38",
    "outputId": "05c690a6-aa06-4d8f-ab31-903b68a675ed"
   },
   "outputs": [
    {
     "name": "stderr",
     "output_type": "stream",
     "text": [
      "Using TensorFlow backend.\n"
     ]
    }
   ],
   "source": [
    "# Importing Libraries\n",
    "\n",
    "from keras.preprocessing.image import ImageDataGenerator\n",
    "from keras.models import Sequential\n",
    "from keras.layers import Conv2D,MaxPooling2D,Flatten,Activation,BatchNormalization\n",
    "from keras.optimizers import Adam,SGD"
   ]
  },
  {
   "cell_type": "markdown",
   "metadata": {
    "colab_type": "text",
    "id": "_VBRJD_KQg4f"
   },
   "source": [
    "__Loading Images__"
   ]
  },
  {
   "cell_type": "code",
   "execution_count": 2,
   "metadata": {
    "colab": {
     "base_uri": "https://localhost:8080/",
     "height": 134
    },
    "colab_type": "code",
    "id": "aGMUYki6P-k3",
    "outputId": "e91575e9-51f8-4b9c-c14c-e52a4acff7a3"
   },
   "outputs": [
    {
     "name": "stdout",
     "output_type": "stream",
     "text": [
      "Cloning into 'DevanagariHandwrittenCharacterDataset'...\n",
      "remote: Enumerating objects: 92075, done.\u001b[K\n",
      "remote: Counting objects: 100% (92075/92075), done.\u001b[K\n",
      "remote: Compressing objects: 100% (92073/92073), done.\u001b[K\n",
      "remote: Total 92075 (delta 0), reused 92075 (delta 0), pack-reused 0\u001b[K\n",
      "Receiving objects: 100% (92075/92075), 56.74 MiB | 28.81 MiB/s, done.\n",
      "Checking out files: 100% (92001/92001), done.\n"
     ]
    }
   ],
   "source": [
    "! git clone https://github.com/EbinAbraham/DevanagariHandwrittenCharacterDataset.git"
   ]
  },
  {
   "cell_type": "code",
   "execution_count": 4,
   "metadata": {
    "colab": {
     "base_uri": "https://localhost:8080/",
     "height": 34
    },
    "colab_type": "code",
    "id": "e1vRoexsNy54",
    "outputId": "183414f8-fe86-4565-a6b3-8ae07ed9e4a9"
   },
   "outputs": [
    {
     "name": "stdout",
     "output_type": "stream",
     "text": [
      "Found 78200 images belonging to 46 classes.\n"
     ]
    }
   ],
   "source": [
    "# Importing Training Images\n",
    "\n",
    "datagen=ImageDataGenerator()\n",
    "img=datagen.flow_from_directory('/content/DevanagariHandwrittenCharacterDataset/Train')"
   ]
  },
  {
   "cell_type": "code",
   "execution_count": 5,
   "metadata": {
    "colab": {
     "base_uri": "https://localhost:8080/",
     "height": 34
    },
    "colab_type": "code",
    "id": "Q6jPeuAaNzHa",
    "outputId": "f60df408-3358-44ed-8944-ad7850c85d1a"
   },
   "outputs": [
    {
     "name": "stdout",
     "output_type": "stream",
     "text": [
      "Found 13800 images belonging to 46 classes.\n"
     ]
    }
   ],
   "source": [
    "# Importing Testing Images\n",
    "\n",
    "img_test=datagen.flow_from_directory('/content/DevanagariHandwrittenCharacterDataset/Test')"
   ]
  },
  {
   "cell_type": "markdown",
   "metadata": {
    "colab_type": "text",
    "id": "fmzFeSBePLbw"
   },
   "source": [
    "__CNN Model__"
   ]
  },
  {
   "cell_type": "code",
   "execution_count": 0,
   "metadata": {
    "colab": {},
    "colab_type": "code",
    "id": "T0K1y4QbNy8v"
   },
   "outputs": [],
   "source": [
    "model=Sequential()\n",
    "model.add(Conv2D(16,3, activation='relu',input_shape=(256,256,3)))\n",
    "model.add(Conv2D(32,3, activation='relu'))\n",
    "model.add(Conv2D(32,3, activation='relu'))\n",
    "model.add(MaxPooling2D(pool_size=(2,2)))\n",
    "model.add(BatchNormalization())\n",
    "model.add(Conv2D(48,3, activation='relu'))\n",
    "model.add(Conv2D(48,3, activation='relu'))\n",
    "model.add(MaxPooling2D(pool_size=(2,2)))\n",
    "model.add(BatchNormalization())\n",
    "model.add(Conv2D(64,3, activation='relu'))\n",
    "model.add(Conv2D(64,3, activation='relu'))\n",
    "model.add(MaxPooling2D(pool_size=(2,2)))\n",
    "model.add(BatchNormalization())\n",
    "model.add(Conv2D(72,3, activation='relu'))\n",
    "model.add(Conv2D(72,3, activation='relu'))\n",
    "model.add(MaxPooling2D(pool_size=(2,2)))\n",
    "model.add(Conv2D(72,3, activation='relu'))\n",
    "model.add(Conv2D(80,3, activation='relu'))\n",
    "model.add(Conv2D(46,8))\n",
    "model.add(Flatten())\n",
    "model.add(Activation('softmax'))"
   ]
  },
  {
   "cell_type": "code",
   "execution_count": 7,
   "metadata": {
    "colab": {
     "base_uri": "https://localhost:8080/",
     "height": 840
    },
    "colab_type": "code",
    "id": "1LskGv9MNy_E",
    "outputId": "ea90c8c7-d7c8-4c5a-f720-ecd98ecf1e1c"
   },
   "outputs": [
    {
     "name": "stdout",
     "output_type": "stream",
     "text": [
      "_________________________________________________________________\n",
      "Layer (type)                 Output Shape              Param #   \n",
      "=================================================================\n",
      "conv2d_1 (Conv2D)            (None, 254, 254, 16)      448       \n",
      "_________________________________________________________________\n",
      "conv2d_2 (Conv2D)            (None, 252, 252, 32)      4640      \n",
      "_________________________________________________________________\n",
      "conv2d_3 (Conv2D)            (None, 250, 250, 32)      9248      \n",
      "_________________________________________________________________\n",
      "max_pooling2d_1 (MaxPooling2 (None, 125, 125, 32)      0         \n",
      "_________________________________________________________________\n",
      "batch_normalization_1 (Batch (None, 125, 125, 32)      128       \n",
      "_________________________________________________________________\n",
      "conv2d_4 (Conv2D)            (None, 123, 123, 48)      13872     \n",
      "_________________________________________________________________\n",
      "conv2d_5 (Conv2D)            (None, 121, 121, 48)      20784     \n",
      "_________________________________________________________________\n",
      "max_pooling2d_2 (MaxPooling2 (None, 60, 60, 48)        0         \n",
      "_________________________________________________________________\n",
      "batch_normalization_2 (Batch (None, 60, 60, 48)        192       \n",
      "_________________________________________________________________\n",
      "conv2d_6 (Conv2D)            (None, 58, 58, 64)        27712     \n",
      "_________________________________________________________________\n",
      "conv2d_7 (Conv2D)            (None, 56, 56, 64)        36928     \n",
      "_________________________________________________________________\n",
      "max_pooling2d_3 (MaxPooling2 (None, 28, 28, 64)        0         \n",
      "_________________________________________________________________\n",
      "batch_normalization_3 (Batch (None, 28, 28, 64)        256       \n",
      "_________________________________________________________________\n",
      "conv2d_8 (Conv2D)            (None, 26, 26, 72)        41544     \n",
      "_________________________________________________________________\n",
      "conv2d_9 (Conv2D)            (None, 24, 24, 72)        46728     \n",
      "_________________________________________________________________\n",
      "max_pooling2d_4 (MaxPooling2 (None, 12, 12, 72)        0         \n",
      "_________________________________________________________________\n",
      "conv2d_10 (Conv2D)           (None, 10, 10, 72)        46728     \n",
      "_________________________________________________________________\n",
      "conv2d_11 (Conv2D)           (None, 8, 8, 80)          51920     \n",
      "_________________________________________________________________\n",
      "conv2d_12 (Conv2D)           (None, 1, 1, 46)          235566    \n",
      "_________________________________________________________________\n",
      "flatten_1 (Flatten)          (None, 46)                0         \n",
      "_________________________________________________________________\n",
      "activation_1 (Activation)    (None, 46)                0         \n",
      "=================================================================\n",
      "Total params: 536,694\n",
      "Trainable params: 536,406\n",
      "Non-trainable params: 288\n",
      "_________________________________________________________________\n"
     ]
    }
   ],
   "source": [
    "model.summary()"
   ]
  },
  {
   "cell_type": "code",
   "execution_count": 0,
   "metadata": {
    "colab": {},
    "colab_type": "code",
    "id": "jb7f4RJ6NzCK"
   },
   "outputs": [],
   "source": [
    "model.compile(optimizer='adam',loss='categorical_crossentropy',metrics=['accuracy'])"
   ]
  },
  {
   "cell_type": "code",
   "execution_count": 9,
   "metadata": {
    "colab": {
     "base_uri": "https://localhost:8080/",
     "height": 1193
    },
    "colab_type": "code",
    "id": "U8wrFhHMNzEX",
    "outputId": "05a153c1-1770-45d8-f761-a7bc6730b2f0"
   },
   "outputs": [
    {
     "name": "stdout",
     "output_type": "stream",
     "text": [
      "Epoch 1/35\n",
      "768/768 [==============================] - 337s 438ms/step - loss: 0.7654 - acc: 0.7854 - val_loss: 0.3152 - val_acc: 0.9076\n",
      "Epoch 2/35\n",
      "768/768 [==============================] - 330s 430ms/step - loss: 0.2401 - acc: 0.9299 - val_loss: 0.1693 - val_acc: 0.9483\n",
      "Epoch 3/35\n",
      "768/768 [==============================] - 330s 430ms/step - loss: 0.1661 - acc: 0.9511 - val_loss: 0.2732 - val_acc: 0.9183\n",
      "Epoch 4/35\n",
      "768/768 [==============================] - 331s 431ms/step - loss: 0.1106 - acc: 0.9661 - val_loss: 0.1746 - val_acc: 0.9498\n",
      "Epoch 5/35\n",
      "768/768 [==============================] - 329s 429ms/step - loss: 0.1037 - acc: 0.9681 - val_loss: 0.1157 - val_acc: 0.9655\n",
      "Epoch 6/35\n",
      "768/768 [==============================] - 329s 429ms/step - loss: 0.0999 - acc: 0.9693 - val_loss: 0.0968 - val_acc: 0.9720\n",
      "Epoch 7/35\n",
      "768/768 [==============================] - 329s 429ms/step - loss: 0.0706 - acc: 0.9779 - val_loss: 0.1109 - val_acc: 0.9668\n",
      "Epoch 8/35\n",
      "768/768 [==============================] - 329s 429ms/step - loss: 0.0675 - acc: 0.9795 - val_loss: 0.1040 - val_acc: 0.9728\n",
      "Epoch 9/35\n",
      "768/768 [==============================] - 329s 428ms/step - loss: 0.0658 - acc: 0.9803 - val_loss: 0.1068 - val_acc: 0.9700\n",
      "Epoch 10/35\n",
      "768/768 [==============================] - 329s 428ms/step - loss: 0.0559 - acc: 0.9825 - val_loss: 0.0941 - val_acc: 0.9760\n",
      "Epoch 11/35\n",
      "768/768 [==============================] - 329s 428ms/step - loss: 0.0501 - acc: 0.9844 - val_loss: 0.1171 - val_acc: 0.9656\n",
      "Epoch 12/35\n",
      "768/768 [==============================] - 329s 429ms/step - loss: 0.0552 - acc: 0.9831 - val_loss: 0.1058 - val_acc: 0.9699\n",
      "Epoch 13/35\n",
      "768/768 [==============================] - 329s 428ms/step - loss: 0.0460 - acc: 0.9854 - val_loss: 0.1095 - val_acc: 0.9746\n",
      "Epoch 14/35\n",
      "768/768 [==============================] - 329s 428ms/step - loss: 0.0356 - acc: 0.9891 - val_loss: 0.1133 - val_acc: 0.9732\n",
      "Epoch 15/35\n",
      "768/768 [==============================] - 329s 428ms/step - loss: 0.0382 - acc: 0.9882 - val_loss: 0.1317 - val_acc: 0.9727\n",
      "Epoch 16/35\n",
      "768/768 [==============================] - 329s 428ms/step - loss: 0.0372 - acc: 0.9879 - val_loss: 0.0968 - val_acc: 0.9763\n",
      "Epoch 17/35\n",
      "768/768 [==============================] - 329s 428ms/step - loss: 0.0304 - acc: 0.9906 - val_loss: 0.1289 - val_acc: 0.9741\n",
      "Epoch 18/35\n",
      "768/768 [==============================] - 329s 428ms/step - loss: 0.0348 - acc: 0.9898 - val_loss: 0.1146 - val_acc: 0.9740\n",
      "Epoch 19/35\n",
      "768/768 [==============================] - 328s 428ms/step - loss: 0.0380 - acc: 0.9874 - val_loss: 0.0954 - val_acc: 0.9743\n",
      "Epoch 20/35\n",
      "768/768 [==============================] - 328s 427ms/step - loss: 0.0245 - acc: 0.9923 - val_loss: 0.0909 - val_acc: 0.9793\n",
      "Epoch 21/35\n",
      "768/768 [==============================] - 329s 428ms/step - loss: 0.0278 - acc: 0.9914 - val_loss: 0.1051 - val_acc: 0.9773\n",
      "Epoch 22/35\n",
      "768/768 [==============================] - 329s 428ms/step - loss: 0.0295 - acc: 0.9909 - val_loss: 0.1279 - val_acc: 0.9739\n",
      "Epoch 23/35\n",
      "768/768 [==============================] - 328s 428ms/step - loss: 0.0161 - acc: 0.9953 - val_loss: 0.1205 - val_acc: 0.9770\n",
      "Epoch 24/35\n",
      "768/768 [==============================] - 329s 429ms/step - loss: 0.0265 - acc: 0.9922 - val_loss: 0.1037 - val_acc: 0.9752\n",
      "Epoch 25/35\n",
      "768/768 [==============================] - 329s 428ms/step - loss: 0.0285 - acc: 0.9910 - val_loss: 0.1208 - val_acc: 0.9774\n",
      "Epoch 26/35\n",
      "768/768 [==============================] - 329s 428ms/step - loss: 0.0204 - acc: 0.9934 - val_loss: 0.1240 - val_acc: 0.9752\n",
      "Epoch 27/35\n",
      "768/768 [==============================] - 329s 428ms/step - loss: 0.0242 - acc: 0.9929 - val_loss: 0.0951 - val_acc: 0.9765\n",
      "Epoch 28/35\n",
      "768/768 [==============================] - 328s 427ms/step - loss: 0.0226 - acc: 0.9930 - val_loss: 0.1059 - val_acc: 0.9789\n",
      "Epoch 29/35\n",
      "768/768 [==============================] - 328s 427ms/step - loss: 0.0214 - acc: 0.9939 - val_loss: 0.0800 - val_acc: 0.9806\n",
      "Epoch 30/35\n",
      "768/768 [==============================] - 328s 427ms/step - loss: 0.0151 - acc: 0.9954 - val_loss: 0.1431 - val_acc: 0.9709\n",
      "Epoch 31/35\n",
      "768/768 [==============================] - 328s 427ms/step - loss: 0.0204 - acc: 0.9939 - val_loss: 0.0926 - val_acc: 0.9788\n",
      "Epoch 32/35\n",
      "768/768 [==============================] - 328s 427ms/step - loss: 0.0207 - acc: 0.9940 - val_loss: 0.1233 - val_acc: 0.9775\n",
      "Epoch 33/35\n",
      "768/768 [==============================] - 328s 427ms/step - loss: 0.0142 - acc: 0.9956 - val_loss: 0.1148 - val_acc: 0.9782\n",
      "Epoch 34/35\n",
      "768/768 [==============================] - 328s 427ms/step - loss: 0.0268 - acc: 0.9925 - val_loss: 0.1077 - val_acc: 0.9780\n",
      "Epoch 35/35\n",
      "768/768 [==============================] - 328s 427ms/step - loss: 0.0170 - acc: 0.9948 - val_loss: 0.0867 - val_acc: 0.9814\n"
     ]
    }
   ],
   "source": [
    "m=model.fit_generator(img, epochs=35,steps_per_epoch=768,validation_data=img_test,validation_steps=512)"
   ]
  },
  {
   "cell_type": "code",
   "execution_count": 10,
   "metadata": {
    "colab": {
     "base_uri": "https://localhost:8080/",
     "height": 34
    },
    "colab_type": "code",
    "id": "OhNlHpHClgEP",
    "outputId": "014e3a0a-ba93-41cd-b5fb-874aa7bc0115"
   },
   "outputs": [
    {
     "name": "stdout",
     "output_type": "stream",
     "text": [
      "512/512 [==============================] - 65s 128ms/step\n"
     ]
    }
   ],
   "source": [
    "score = model.evaluate_generator(img_test, steps=512, verbose=1)"
   ]
  },
  {
   "cell_type": "code",
   "execution_count": 11,
   "metadata": {
    "colab": {
     "base_uri": "https://localhost:8080/",
     "height": 34
    },
    "colab_type": "code",
    "id": "J_d5_R9wpiRo",
    "outputId": "1212ecef-bcf0-43e3-e0dc-b0e77b9608a2"
   },
   "outputs": [
    {
     "name": "stdout",
     "output_type": "stream",
     "text": [
      "[0.10318511784596666, 0.9795232273838631]\n"
     ]
    }
   ],
   "source": [
    "print(score)"
   ]
  }
 ],
 "metadata": {
  "accelerator": "GPU",
  "colab": {
   "collapsed_sections": [],
   "name": "Devanagari Handwritten Character Classification.ipynb",
   "provenance": [],
   "version": "0.3.2"
  },
  "kernelspec": {
   "display_name": "Python 3",
   "language": "python",
   "name": "python3"
  },
  "language_info": {
   "codemirror_mode": {
    "name": "ipython",
    "version": 3
   },
   "file_extension": ".py",
   "mimetype": "text/x-python",
   "name": "python",
   "nbconvert_exporter": "python",
   "pygments_lexer": "ipython3",
   "version": "3.6.5"
  }
 },
 "nbformat": 4,
 "nbformat_minor": 1
}
